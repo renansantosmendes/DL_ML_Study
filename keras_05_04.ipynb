{
  "nbformat": 4,
  "nbformat_minor": 0,
  "metadata": {
    "colab": {
      "name": "keras_05_04.ipynb",
      "provenance": [],
      "collapsed_sections": []
    },
    "kernelspec": {
      "name": "python3",
      "display_name": "Python 3"
    },
    "accelerator": "GPU"
  },
  "cells": [
    {
      "cell_type": "code",
      "metadata": {
        "id": "gPoVKnfYfjQm",
        "colab_type": "code",
        "outputId": "94c1a231-6dcf-41ca-ab1b-7dafad4e4442",
        "colab": {
          "base_uri": "https://localhost:8080/",
          "height": 124
        }
      },
      "source": [
        "from google.colab import drive\n",
        "\n",
        "drive.mount('/content/drive/')"
      ],
      "execution_count": 0,
      "outputs": [
        {
          "output_type": "stream",
          "text": [
            "Go to this URL in a browser: https://accounts.google.com/o/oauth2/auth?client_id=947318989803-6bn6qk8qdgf4n4g3pfee6491hc0brc4i.apps.googleusercontent.com&redirect_uri=urn%3Aietf%3Awg%3Aoauth%3A2.0%3Aoob&scope=email%20https%3A%2F%2Fwww.googleapis.com%2Fauth%2Fdocs.test%20https%3A%2F%2Fwww.googleapis.com%2Fauth%2Fdrive%20https%3A%2F%2Fwww.googleapis.com%2Fauth%2Fdrive.photos.readonly%20https%3A%2F%2Fwww.googleapis.com%2Fauth%2Fpeopleapi.readonly&response_type=code\n",
            "\n",
            "Enter your authorization code:\n",
            "··········\n",
            "Mounted at /content/drive/\n"
          ],
          "name": "stdout"
        }
      ]
    },
    {
      "cell_type": "code",
      "metadata": {
        "id": "J_IOzAS8fu92",
        "colab_type": "code",
        "outputId": "e2757c73-703a-4490-8ced-6dad538a8b7e",
        "colab": {
          "base_uri": "https://localhost:8080/",
          "height": 436
        }
      },
      "source": [
        "from keras.applications import VGG16\n",
        "\n",
        "conv_base = VGG16(weights='imagenet',include_top=False,input_shape=(150,150,3))"
      ],
      "execution_count": 0,
      "outputs": [
        {
          "output_type": "stream",
          "text": [
            "Using TensorFlow backend.\n"
          ],
          "name": "stderr"
        },
        {
          "output_type": "stream",
          "text": [
            "WARNING:tensorflow:From /usr/local/lib/python3.6/dist-packages/keras/backend/tensorflow_backend.py:66: The name tf.get_default_graph is deprecated. Please use tf.compat.v1.get_default_graph instead.\n",
            "\n",
            "WARNING:tensorflow:From /usr/local/lib/python3.6/dist-packages/keras/backend/tensorflow_backend.py:541: The name tf.placeholder is deprecated. Please use tf.compat.v1.placeholder instead.\n",
            "\n",
            "WARNING:tensorflow:From /usr/local/lib/python3.6/dist-packages/keras/backend/tensorflow_backend.py:4432: The name tf.random_uniform is deprecated. Please use tf.random.uniform instead.\n",
            "\n",
            "WARNING:tensorflow:From /usr/local/lib/python3.6/dist-packages/keras/backend/tensorflow_backend.py:4267: The name tf.nn.max_pool is deprecated. Please use tf.nn.max_pool2d instead.\n",
            "\n",
            "Downloading data from https://github.com/fchollet/deep-learning-models/releases/download/v0.1/vgg16_weights_tf_dim_ordering_tf_kernels_notop.h5\n",
            "58892288/58889256 [==============================] - 2s 0us/step\n",
            "WARNING:tensorflow:From /usr/local/lib/python3.6/dist-packages/keras/backend/tensorflow_backend.py:190: The name tf.get_default_session is deprecated. Please use tf.compat.v1.get_default_session instead.\n",
            "\n",
            "WARNING:tensorflow:From /usr/local/lib/python3.6/dist-packages/keras/backend/tensorflow_backend.py:197: The name tf.ConfigProto is deprecated. Please use tf.compat.v1.ConfigProto instead.\n",
            "\n",
            "WARNING:tensorflow:From /usr/local/lib/python3.6/dist-packages/keras/backend/tensorflow_backend.py:203: The name tf.Session is deprecated. Please use tf.compat.v1.Session instead.\n",
            "\n",
            "WARNING:tensorflow:From /usr/local/lib/python3.6/dist-packages/keras/backend/tensorflow_backend.py:207: The name tf.global_variables is deprecated. Please use tf.compat.v1.global_variables instead.\n",
            "\n",
            "WARNING:tensorflow:From /usr/local/lib/python3.6/dist-packages/keras/backend/tensorflow_backend.py:216: The name tf.is_variable_initialized is deprecated. Please use tf.compat.v1.is_variable_initialized instead.\n",
            "\n",
            "WARNING:tensorflow:From /usr/local/lib/python3.6/dist-packages/keras/backend/tensorflow_backend.py:223: The name tf.variables_initializer is deprecated. Please use tf.compat.v1.variables_initializer instead.\n",
            "\n"
          ],
          "name": "stdout"
        }
      ]
    },
    {
      "cell_type": "code",
      "metadata": {
        "id": "psP5BLysiulz",
        "colab_type": "code",
        "outputId": "d2bbe8d8-6dc9-48b5-a28a-fbc84424b89c",
        "colab": {
          "base_uri": "https://localhost:8080/",
          "height": 816
        }
      },
      "source": [
        "conv_base.summary()"
      ],
      "execution_count": 0,
      "outputs": [
        {
          "output_type": "stream",
          "text": [
            "Model: \"vgg16\"\n",
            "_________________________________________________________________\n",
            "Layer (type)                 Output Shape              Param #   \n",
            "=================================================================\n",
            "input_3 (InputLayer)         (None, 150, 150, 3)       0         \n",
            "_________________________________________________________________\n",
            "block1_conv1 (Conv2D)        (None, 150, 150, 64)      1792      \n",
            "_________________________________________________________________\n",
            "block1_conv2 (Conv2D)        (None, 150, 150, 64)      36928     \n",
            "_________________________________________________________________\n",
            "block1_pool (MaxPooling2D)   (None, 75, 75, 64)        0         \n",
            "_________________________________________________________________\n",
            "block2_conv1 (Conv2D)        (None, 75, 75, 128)       73856     \n",
            "_________________________________________________________________\n",
            "block2_conv2 (Conv2D)        (None, 75, 75, 128)       147584    \n",
            "_________________________________________________________________\n",
            "block2_pool (MaxPooling2D)   (None, 37, 37, 128)       0         \n",
            "_________________________________________________________________\n",
            "block3_conv1 (Conv2D)        (None, 37, 37, 256)       295168    \n",
            "_________________________________________________________________\n",
            "block3_conv2 (Conv2D)        (None, 37, 37, 256)       590080    \n",
            "_________________________________________________________________\n",
            "block3_conv3 (Conv2D)        (None, 37, 37, 256)       590080    \n",
            "_________________________________________________________________\n",
            "block3_pool (MaxPooling2D)   (None, 18, 18, 256)       0         \n",
            "_________________________________________________________________\n",
            "block4_conv1 (Conv2D)        (None, 18, 18, 512)       1180160   \n",
            "_________________________________________________________________\n",
            "block4_conv2 (Conv2D)        (None, 18, 18, 512)       2359808   \n",
            "_________________________________________________________________\n",
            "block4_conv3 (Conv2D)        (None, 18, 18, 512)       2359808   \n",
            "_________________________________________________________________\n",
            "block4_pool (MaxPooling2D)   (None, 9, 9, 512)         0         \n",
            "_________________________________________________________________\n",
            "block5_conv1 (Conv2D)        (None, 9, 9, 512)         2359808   \n",
            "_________________________________________________________________\n",
            "block5_conv2 (Conv2D)        (None, 9, 9, 512)         2359808   \n",
            "_________________________________________________________________\n",
            "block5_conv3 (Conv2D)        (None, 9, 9, 512)         2359808   \n",
            "_________________________________________________________________\n",
            "block5_pool (MaxPooling2D)   (None, 4, 4, 512)         0         \n",
            "=================================================================\n",
            "Total params: 14,714,688\n",
            "Trainable params: 14,714,688\n",
            "Non-trainable params: 0\n",
            "_________________________________________________________________\n"
          ],
          "name": "stdout"
        }
      ]
    },
    {
      "cell_type": "code",
      "metadata": {
        "id": "q1xLd3u1i-kw",
        "colab_type": "code",
        "colab": {}
      },
      "source": [
        "from keras.models import Sequential\n",
        "from keras.layers import Flatten, Dense\n",
        "\n",
        "model = Sequential()\n",
        "model.add(conv_base)\n",
        "model.add(Flatten())\n",
        "model.add(Dense(256, activation='relu'))\n",
        "model.add(Dense(1, activation='sigmoid'))"
      ],
      "execution_count": 0,
      "outputs": []
    },
    {
      "cell_type": "code",
      "metadata": {
        "id": "JXV22pIVj68q",
        "colab_type": "code",
        "outputId": "ee4a2be6-55f5-4d16-ee0a-6cfa3275a87e",
        "colab": {
          "base_uri": "https://localhost:8080/",
          "height": 295
        }
      },
      "source": [
        "model.summary()"
      ],
      "execution_count": 0,
      "outputs": [
        {
          "output_type": "stream",
          "text": [
            "Model: \"sequential_1\"\n",
            "_________________________________________________________________\n",
            "Layer (type)                 Output Shape              Param #   \n",
            "=================================================================\n",
            "vgg16 (Model)                (None, 4, 4, 512)         14714688  \n",
            "_________________________________________________________________\n",
            "flatten_1 (Flatten)          (None, 8192)              0         \n",
            "_________________________________________________________________\n",
            "dense_1 (Dense)              (None, 256)               2097408   \n",
            "_________________________________________________________________\n",
            "dense_2 (Dense)              (None, 1)                 257       \n",
            "=================================================================\n",
            "Total params: 16,812,353\n",
            "Trainable params: 16,812,353\n",
            "Non-trainable params: 0\n",
            "_________________________________________________________________\n"
          ],
          "name": "stdout"
        }
      ]
    },
    {
      "cell_type": "code",
      "metadata": {
        "id": "Rr4Qpqufj8LY",
        "colab_type": "code",
        "outputId": "236680cf-f7a9-45cc-a717-5717d2b2f260",
        "colab": {
          "base_uri": "https://localhost:8080/",
          "height": 538
        }
      },
      "source": [
        "model.trainable_weights"
      ],
      "execution_count": 0,
      "outputs": [
        {
          "output_type": "execute_result",
          "data": {
            "text/plain": [
              "[<tf.Variable 'block1_conv1/kernel:0' shape=(3, 3, 3, 64) dtype=float32_ref>,\n",
              " <tf.Variable 'block1_conv1/bias:0' shape=(64,) dtype=float32_ref>,\n",
              " <tf.Variable 'block1_conv2/kernel:0' shape=(3, 3, 64, 64) dtype=float32_ref>,\n",
              " <tf.Variable 'block1_conv2/bias:0' shape=(64,) dtype=float32_ref>,\n",
              " <tf.Variable 'block2_conv1/kernel:0' shape=(3, 3, 64, 128) dtype=float32_ref>,\n",
              " <tf.Variable 'block2_conv1/bias:0' shape=(128,) dtype=float32_ref>,\n",
              " <tf.Variable 'block2_conv2/kernel:0' shape=(3, 3, 128, 128) dtype=float32_ref>,\n",
              " <tf.Variable 'block2_conv2/bias:0' shape=(128,) dtype=float32_ref>,\n",
              " <tf.Variable 'block3_conv1/kernel:0' shape=(3, 3, 128, 256) dtype=float32_ref>,\n",
              " <tf.Variable 'block3_conv1/bias:0' shape=(256,) dtype=float32_ref>,\n",
              " <tf.Variable 'block3_conv2/kernel:0' shape=(3, 3, 256, 256) dtype=float32_ref>,\n",
              " <tf.Variable 'block3_conv2/bias:0' shape=(256,) dtype=float32_ref>,\n",
              " <tf.Variable 'block3_conv3/kernel:0' shape=(3, 3, 256, 256) dtype=float32_ref>,\n",
              " <tf.Variable 'block3_conv3/bias:0' shape=(256,) dtype=float32_ref>,\n",
              " <tf.Variable 'block4_conv1/kernel:0' shape=(3, 3, 256, 512) dtype=float32_ref>,\n",
              " <tf.Variable 'block4_conv1/bias:0' shape=(512,) dtype=float32_ref>,\n",
              " <tf.Variable 'block4_conv2/kernel:0' shape=(3, 3, 512, 512) dtype=float32_ref>,\n",
              " <tf.Variable 'block4_conv2/bias:0' shape=(512,) dtype=float32_ref>,\n",
              " <tf.Variable 'block4_conv3/kernel:0' shape=(3, 3, 512, 512) dtype=float32_ref>,\n",
              " <tf.Variable 'block4_conv3/bias:0' shape=(512,) dtype=float32_ref>,\n",
              " <tf.Variable 'block5_conv1/kernel:0' shape=(3, 3, 512, 512) dtype=float32_ref>,\n",
              " <tf.Variable 'block5_conv1/bias:0' shape=(512,) dtype=float32_ref>,\n",
              " <tf.Variable 'block5_conv2/kernel:0' shape=(3, 3, 512, 512) dtype=float32_ref>,\n",
              " <tf.Variable 'block5_conv2/bias:0' shape=(512,) dtype=float32_ref>,\n",
              " <tf.Variable 'block5_conv3/kernel:0' shape=(3, 3, 512, 512) dtype=float32_ref>,\n",
              " <tf.Variable 'block5_conv3/bias:0' shape=(512,) dtype=float32_ref>,\n",
              " <tf.Variable 'dense_1/kernel:0' shape=(8192, 256) dtype=float32_ref>,\n",
              " <tf.Variable 'dense_1/bias:0' shape=(256,) dtype=float32_ref>,\n",
              " <tf.Variable 'dense_2/kernel:0' shape=(256, 1) dtype=float32_ref>,\n",
              " <tf.Variable 'dense_2/bias:0' shape=(1,) dtype=float32_ref>]"
            ]
          },
          "metadata": {
            "tags": []
          },
          "execution_count": 6
        }
      ]
    },
    {
      "cell_type": "code",
      "metadata": {
        "id": "57fiTVVgkV7O",
        "colab_type": "code",
        "colab": {}
      },
      "source": [
        "conv_base.trainable = False"
      ],
      "execution_count": 0,
      "outputs": []
    },
    {
      "cell_type": "code",
      "metadata": {
        "id": "iVrTDuI4karz",
        "colab_type": "code",
        "outputId": "0dc3b6f1-abb9-4df0-da39-51322be5bccb",
        "colab": {
          "base_uri": "https://localhost:8080/",
          "height": 86
        }
      },
      "source": [
        "model.trainable_weights"
      ],
      "execution_count": 0,
      "outputs": [
        {
          "output_type": "execute_result",
          "data": {
            "text/plain": [
              "[<tf.Variable 'dense_1/kernel:0' shape=(8192, 256) dtype=float32_ref>,\n",
              " <tf.Variable 'dense_1/bias:0' shape=(256,) dtype=float32_ref>,\n",
              " <tf.Variable 'dense_2/kernel:0' shape=(256, 1) dtype=float32_ref>,\n",
              " <tf.Variable 'dense_2/bias:0' shape=(1,) dtype=float32_ref>]"
            ]
          },
          "metadata": {
            "tags": []
          },
          "execution_count": 8
        }
      ]
    },
    {
      "cell_type": "code",
      "metadata": {
        "id": "8tSfQcsgk_qN",
        "colab_type": "code",
        "colab": {}
      },
      "source": [
        "import os\n",
        "base_path = 'drive/My Drive/datasets/dc_dataset'\n",
        "train_dir = os.path.join(base_path, 'train')\n",
        "val_dir = os.path.join(base_path, 'val')"
      ],
      "execution_count": 0,
      "outputs": []
    },
    {
      "cell_type": "code",
      "metadata": {
        "id": "FiWxigeTkc6B",
        "colab_type": "code",
        "outputId": "97aad7ba-dee6-4eb7-e45e-d055d869ff20",
        "colab": {
          "base_uri": "https://localhost:8080/",
          "height": 1000
        }
      },
      "source": [
        "%%time\n",
        "from keras.preprocessing.image import ImageDataGenerator\n",
        "from keras import optimizers\n",
        "\n",
        "\n",
        "train_datagen = ImageDataGenerator(\n",
        "  rescale=1./255,\n",
        "  rotation_range=40,\n",
        "  width_shift_range=0.2,\n",
        "  height_shift_range=0.2,\n",
        "  shear_range=0.2,\n",
        "  zoom_range=0.2,\n",
        "  horizontal_flip=True,\n",
        ")\n",
        "\n",
        "test_datagen = ImageDataGenerator(rescale=1./255)\n",
        "\n",
        "train_generator = train_datagen.flow_from_directory(train_dir,\n",
        "                                                    target_size=(150, 150), batch_size=32, class_mode='binary')\n",
        "\n",
        "val_generator = test_datagen.flow_from_directory(val_dir,\n",
        "                                                  target_size=(150, 150), batch_size=32, class_mode='binary')\n",
        "\n",
        "\n",
        "model.compile(loss='binary_crossentropy', optimizer=optimizers.RMSprop(lr=1e-4), metrics=['acc'])\n",
        "\n",
        "history = model.fit_generator(\n",
        "    train_generator,\n",
        "    steps_per_epoch=100,\n",
        "    epochs=30,\n",
        "    validation_data=val_generator,\n",
        "    validation_steps=50\n",
        ")\n",
        "\n",
        "model.save('cats_and_dogs_vgg16_1.h5')"
      ],
      "execution_count": 0,
      "outputs": [
        {
          "output_type": "stream",
          "text": [
            "Found 2000 images belonging to 2 classes.\n",
            "Found 1000 images belonging to 2 classes.\n",
            "Epoch 1/30\n",
            "100/100 [==============================] - 989s 10s/step - loss: 0.7174 - acc: 0.5666 - val_loss: 0.5711 - val_acc: 0.7938\n",
            "Epoch 2/30\n",
            "100/100 [==============================] - 53s 535ms/step - loss: 0.5775 - acc: 0.7066 - val_loss: 0.4086 - val_acc: 0.7893\n",
            "Epoch 3/30\n",
            "100/100 [==============================] - 53s 532ms/step - loss: 0.4527 - acc: 0.8009 - val_loss: 0.4381 - val_acc: 0.7766\n",
            "Epoch 4/30\n",
            "100/100 [==============================] - 54s 540ms/step - loss: 0.3856 - acc: 0.8331 - val_loss: 0.2361 - val_acc: 0.9001\n",
            "Epoch 5/30\n",
            "100/100 [==============================] - 53s 532ms/step - loss: 0.3521 - acc: 0.8547 - val_loss: 0.2710 - val_acc: 0.9048\n",
            "Epoch 6/30\n",
            "100/100 [==============================] - 54s 542ms/step - loss: 0.2865 - acc: 0.8853 - val_loss: 0.2060 - val_acc: 0.9182\n",
            "Epoch 7/30\n",
            "100/100 [==============================] - 54s 538ms/step - loss: 0.2528 - acc: 0.9072 - val_loss: 0.1458 - val_acc: 0.9429\n",
            "Epoch 8/30\n",
            "100/100 [==============================] - 54s 545ms/step - loss: 0.2278 - acc: 0.9094 - val_loss: 0.4162 - val_acc: 0.8273\n",
            "Epoch 9/30\n",
            "100/100 [==============================] - 54s 538ms/step - loss: 0.2265 - acc: 0.9147 - val_loss: 0.2503 - val_acc: 0.9188\n",
            "Epoch 10/30\n",
            "100/100 [==============================] - 53s 526ms/step - loss: 0.2354 - acc: 0.9131 - val_loss: 0.1435 - val_acc: 0.9499\n",
            "Epoch 11/30\n",
            "100/100 [==============================] - 54s 541ms/step - loss: 0.2027 - acc: 0.9234 - val_loss: 0.1425 - val_acc: 0.9497\n",
            "Epoch 12/30\n",
            "100/100 [==============================] - 53s 532ms/step - loss: 0.2740 - acc: 0.9153 - val_loss: 0.2955 - val_acc: 0.8839\n",
            "Epoch 13/30\n",
            "100/100 [==============================] - 54s 541ms/step - loss: 0.2086 - acc: 0.9334 - val_loss: 0.1671 - val_acc: 0.9510\n",
            "Epoch 14/30\n",
            "100/100 [==============================] - 53s 532ms/step - loss: 0.1966 - acc: 0.9322 - val_loss: 0.3240 - val_acc: 0.9105\n",
            "Epoch 15/30\n",
            "100/100 [==============================] - 55s 546ms/step - loss: 0.2334 - acc: 0.9109 - val_loss: 0.2773 - val_acc: 0.8789\n",
            "Epoch 16/30\n",
            "100/100 [==============================] - 54s 536ms/step - loss: 0.1931 - acc: 0.9300 - val_loss: 0.3293 - val_acc: 0.9091\n",
            "Epoch 17/30\n",
            "100/100 [==============================] - 53s 526ms/step - loss: 0.1941 - acc: 0.9278 - val_loss: 0.1233 - val_acc: 0.9416\n",
            "Epoch 18/30\n",
            "100/100 [==============================] - 55s 548ms/step - loss: 0.1933 - acc: 0.9328 - val_loss: 0.2206 - val_acc: 0.9278\n",
            "Epoch 19/30\n",
            "100/100 [==============================] - 53s 528ms/step - loss: 0.1723 - acc: 0.9366 - val_loss: 0.1517 - val_acc: 0.9600\n",
            "Epoch 20/30\n",
            "100/100 [==============================] - 54s 539ms/step - loss: 0.1797 - acc: 0.9303 - val_loss: 0.1862 - val_acc: 0.9575\n",
            "Epoch 21/30\n",
            "100/100 [==============================] - 53s 533ms/step - loss: 0.1951 - acc: 0.9359 - val_loss: 0.0960 - val_acc: 0.9670\n",
            "Epoch 22/30\n",
            "100/100 [==============================] - 53s 534ms/step - loss: 0.1800 - acc: 0.9413 - val_loss: 0.1548 - val_acc: 0.9427\n",
            "Epoch 23/30\n",
            "100/100 [==============================] - 53s 535ms/step - loss: 0.1793 - acc: 0.9434 - val_loss: 0.1597 - val_acc: 0.9480\n",
            "Epoch 24/30\n",
            "100/100 [==============================] - 55s 546ms/step - loss: 0.1591 - acc: 0.9431 - val_loss: 0.1702 - val_acc: 0.9369\n",
            "Epoch 25/30\n",
            "100/100 [==============================] - 53s 534ms/step - loss: 0.1791 - acc: 0.9403 - val_loss: 0.1572 - val_acc: 0.9497\n",
            "Epoch 26/30\n",
            "100/100 [==============================] - 53s 527ms/step - loss: 0.3778 - acc: 0.9384 - val_loss: 0.1939 - val_acc: 0.9334\n",
            "Epoch 27/30\n",
            "100/100 [==============================] - 53s 533ms/step - loss: 0.2794 - acc: 0.9347 - val_loss: 0.1467 - val_acc: 0.9497\n",
            "Epoch 28/30\n",
            "100/100 [==============================] - 53s 530ms/step - loss: 0.2385 - acc: 0.9375 - val_loss: 0.1797 - val_acc: 0.9213\n",
            "Epoch 29/30\n",
            "100/100 [==============================] - 54s 537ms/step - loss: 0.1761 - acc: 0.9453 - val_loss: 0.6678 - val_acc: 0.8898\n",
            "Epoch 30/30\n",
            "100/100 [==============================] - 53s 525ms/step - loss: 0.1602 - acc: 0.9481 - val_loss: 0.2453 - val_acc: 0.9124\n",
            "CPU times: user 33min 51s, sys: 5min 18s, total: 39min 10s\n",
            "Wall time: 42min 23s\n"
          ],
          "name": "stdout"
        }
      ]
    },
    {
      "cell_type": "code",
      "metadata": {
        "id": "UByqjwd3k5wR",
        "colab_type": "code",
        "outputId": "4f8c08b0-449c-41e4-8a1e-99153e6aa595",
        "colab": {
          "base_uri": "https://localhost:8080/",
          "height": 545
        }
      },
      "source": [
        "import matplotlib.pyplot as plt\n",
        "\n",
        "acc = history.history['acc']\n",
        "val_acc = history.history['val_acc']\n",
        "loss = history.history['loss']\n",
        "val_loss = history.history['val_loss']\n",
        "\n",
        "epochs = range(1, len(acc) + 1)\n",
        "\n",
        "plt.plot(epochs, acc, 'bo', label='Training acc')\n",
        "plt.plot(epochs, val_acc, 'b', label='Validation acc')\n",
        "plt.title('Training and Validation Accuracy')\n",
        "plt.legend()\n",
        "plt.show()\n",
        "\n",
        "plt.figure()\n",
        "\n",
        "plt.plot(epochs, loss, 'bo', label='Training loss')\n",
        "plt.plot(epochs, val_loss, 'b', label='Validation loss')\n",
        "plt.title('Training and Validation Loss')\n",
        "plt.legend()\n",
        "plt.show()"
      ],
      "execution_count": 0,
      "outputs": [
        {
          "output_type": "display_data",
          "data": {
            "image/png": "[encoded data removed]",
            "text/plain": [
              "<Figure size 432x288 with 1 Axes>"
            ]
          },
          "metadata": {
            "tags": []
          }
        },
        {
          "output_type": "display_data",
          "data": {
            "image/png": "[encoded data removed]",
            "text/plain": [
              "<Figure size 432x288 with 1 Axes>"
            ]
          },
          "metadata": {
            "tags": []
          }
        }
      ]
    },
    {
      "cell_type": "markdown",
      "metadata": {
        "id": "pc_cg-bD8iyq",
        "colab_type": "text"
      },
      "source": [
        "# Fine tunning"
      ]
    },
    {
      "cell_type": "code",
      "metadata": {
        "id": "yjvaSlmOvlmo",
        "colab_type": "code",
        "colab": {}
      },
      "source": [
        "conv_base.trainable = True\n",
        "\n",
        "set_trainable = False\n",
        "for layer in conv_base.layers:\n",
        "  if layer.name == 'block5_conv1':\n",
        "    set_trainable = True\n",
        "  \n",
        "  if set_trainable:\n",
        "    layer.trainable = True\n",
        "  else:\n",
        "    layer.trainable = False"
      ],
      "execution_count": 0,
      "outputs": []
    },
    {
      "cell_type": "code",
      "metadata": {
        "id": "LyqhVT0gr0Cx",
        "colab_type": "code",
        "outputId": "7a1e72d7-f4d0-4037-9c9f-c95b7300189b",
        "colab": {
          "base_uri": "https://localhost:8080/",
          "height": 1000
        }
      },
      "source": [
        "%%time\n",
        "from keras.preprocessing.image import ImageDataGenerator\n",
        "from keras import optimizers\n",
        "\n",
        "train_datagen = ImageDataGenerator(\n",
        "  rescale=1./255,\n",
        "  rotation_range=40,\n",
        "  width_shift_range=0.2,\n",
        "  height_shift_range=0.2,\n",
        "  shear_range=0.2,\n",
        "  zoom_range=0.2,\n",
        "  horizontal_flip=True,\n",
        ")\n",
        "\n",
        "test_datagen = ImageDataGenerator(rescale=1./255)\n",
        "\n",
        "train_generator = train_datagen.flow_from_directory(train_dir,\n",
        "                                                    target_size=(150, 150), batch_size=32, class_mode='binary')\n",
        "\n",
        "val_generator = test_datagen.flow_from_directory(val_dir,\n",
        "                                                  target_size=(150, 150), batch_size=32, class_mode='binary')\n",
        "\n",
        "model.compile(loss='binary_crossentropy', optimizer=optimizers.RMSprop(lr=1e-4), metrics=['acc'])\n",
        "\n",
        "history = model.fit_generator(\n",
        "    train_generator,\n",
        "    steps_per_epoch=100,\n",
        "    epochs=30,\n",
        "    validation_data=val_generator,\n",
        "    validation_steps=50\n",
        ")\n",
        "\n",
        "model.save('cats_and_dogs_vgg16_2.h5')"
      ],
      "execution_count": 0,
      "outputs": [
        {
          "output_type": "stream",
          "text": [
            "Found 2000 images belonging to 2 classes.\n",
            "Found 1000 images belonging to 2 classes.\n",
            "WARNING:tensorflow:From /usr/local/lib/python3.6/dist-packages/keras/backend/tensorflow_backend.py:1033: The name tf.assign_add is deprecated. Please use tf.compat.v1.assign_add instead.\n",
            "\n",
            "WARNING:tensorflow:From /usr/local/lib/python3.6/dist-packages/keras/backend/tensorflow_backend.py:1020: The name tf.assign is deprecated. Please use tf.compat.v1.assign instead.\n",
            "\n",
            "Epoch 1/30\n",
            "100/100 [==============================] - 1283s 13s/step - loss: 0.4831 - acc: 0.7766 - val_loss: 0.3646 - val_acc: 0.8668\n",
            "Epoch 2/30\n",
            "100/100 [==============================] - 41s 413ms/step - loss: 0.3215 - acc: 0.8653 - val_loss: 0.1730 - val_acc: 0.9253\n",
            "Epoch 3/30\n",
            "100/100 [==============================] - 41s 410ms/step - loss: 0.2551 - acc: 0.8928 - val_loss: 0.4569 - val_acc: 0.8338\n",
            "Epoch 4/30\n",
            "100/100 [==============================] - 42s 417ms/step - loss: 0.2281 - acc: 0.9138 - val_loss: 0.1570 - val_acc: 0.9323\n",
            "Epoch 5/30\n",
            "100/100 [==============================] - 40s 401ms/step - loss: 0.1949 - acc: 0.9219 - val_loss: 0.3535 - val_acc: 0.8807\n",
            "Epoch 6/30\n",
            "100/100 [==============================] - 44s 438ms/step - loss: 0.1893 - acc: 0.9266 - val_loss: 0.1464 - val_acc: 0.9375\n",
            "Epoch 7/30\n",
            "100/100 [==============================] - 41s 413ms/step - loss: 0.1697 - acc: 0.9303 - val_loss: 0.1880 - val_acc: 0.9397\n",
            "Epoch 8/30\n",
            "100/100 [==============================] - 41s 413ms/step - loss: 0.1431 - acc: 0.9434 - val_loss: 0.1821 - val_acc: 0.9433\n",
            "Epoch 9/30\n",
            "100/100 [==============================] - 41s 410ms/step - loss: 0.1612 - acc: 0.9425 - val_loss: 0.1840 - val_acc: 0.9330\n",
            "Epoch 10/30\n",
            "100/100 [==============================] - 40s 402ms/step - loss: 0.1430 - acc: 0.9519 - val_loss: 0.2272 - val_acc: 0.9213\n",
            "Epoch 11/30\n",
            "100/100 [==============================] - 43s 428ms/step - loss: 0.1340 - acc: 0.9497 - val_loss: 0.2934 - val_acc: 0.9233\n",
            "Epoch 12/30\n",
            "100/100 [==============================] - 41s 412ms/step - loss: 0.1515 - acc: 0.9450 - val_loss: 0.2199 - val_acc: 0.9283\n",
            "Epoch 13/30\n",
            "100/100 [==============================] - 41s 411ms/step - loss: 0.1360 - acc: 0.9559 - val_loss: 0.2121 - val_acc: 0.9407\n",
            "Epoch 14/30\n",
            "100/100 [==============================] - 41s 410ms/step - loss: 0.1208 - acc: 0.9566 - val_loss: 0.3015 - val_acc: 0.9194\n",
            "Epoch 15/30\n",
            "100/100 [==============================] - 42s 418ms/step - loss: 0.1235 - acc: 0.9581 - val_loss: 0.3862 - val_acc: 0.9201\n",
            "Epoch 16/30\n",
            "100/100 [==============================] - 41s 414ms/step - loss: 0.1038 - acc: 0.9631 - val_loss: 0.2626 - val_acc: 0.9227\n",
            "Epoch 17/30\n",
            "100/100 [==============================] - 40s 399ms/step - loss: 0.1156 - acc: 0.9584 - val_loss: 0.2133 - val_acc: 0.9448\n",
            "Epoch 18/30\n",
            "100/100 [==============================] - 44s 442ms/step - loss: 0.1186 - acc: 0.9587 - val_loss: 0.6583 - val_acc: 0.9162\n",
            "Epoch 19/30\n",
            "100/100 [==============================] - 41s 407ms/step - loss: 0.1242 - acc: 0.9597 - val_loss: 0.2752 - val_acc: 0.9473\n",
            "Epoch 20/30\n",
            "100/100 [==============================] - 41s 414ms/step - loss: 0.1213 - acc: 0.9634 - val_loss: 0.2352 - val_acc: 0.9369\n",
            "Epoch 21/30\n",
            "100/100 [==============================] - 40s 404ms/step - loss: 0.1023 - acc: 0.9675 - val_loss: 0.2482 - val_acc: 0.9251\n",
            "Epoch 22/30\n",
            "100/100 [==============================] - 41s 408ms/step - loss: 0.1348 - acc: 0.9600 - val_loss: 0.3008 - val_acc: 0.9336\n",
            "Epoch 23/30\n",
            "100/100 [==============================] - 43s 430ms/step - loss: 0.0970 - acc: 0.9666 - val_loss: 0.2950 - val_acc: 0.9385\n",
            "Epoch 24/30\n",
            "100/100 [==============================] - 41s 414ms/step - loss: 0.0905 - acc: 0.9734 - val_loss: 0.4005 - val_acc: 0.9375\n",
            "Epoch 25/30\n",
            "100/100 [==============================] - 41s 410ms/step - loss: 0.0920 - acc: 0.9744 - val_loss: 0.3418 - val_acc: 0.9414\n",
            "Epoch 26/30\n",
            "100/100 [==============================] - 41s 406ms/step - loss: 0.0994 - acc: 0.9706 - val_loss: 0.3067 - val_acc: 0.9372\n",
            "Epoch 27/30\n",
            "100/100 [==============================] - 41s 406ms/step - loss: 0.0949 - acc: 0.9666 - val_loss: 0.2547 - val_acc: 0.9459\n",
            "Epoch 28/30\n",
            "100/100 [==============================] - 41s 414ms/step - loss: 0.0871 - acc: 0.9719 - val_loss: 0.3444 - val_acc: 0.9410\n",
            "Epoch 29/30\n",
            "100/100 [==============================] - 41s 411ms/step - loss: 0.1001 - acc: 0.9744 - val_loss: 0.3414 - val_acc: 0.9149\n",
            "Epoch 30/30\n",
            "100/100 [==============================] - 41s 409ms/step - loss: 0.0963 - acc: 0.9778 - val_loss: 0.7309 - val_acc: 0.8775\n",
            "CPU times: user 21min 41s, sys: 1min 28s, total: 23min 10s\n",
            "Wall time: 41min 36s\n"
          ],
          "name": "stdout"
        }
      ]
    },
    {
      "cell_type": "code",
      "metadata": {
        "id": "EBW6nJSCr7Lt",
        "colab_type": "code",
        "outputId": "bf32f62b-2405-448a-cb1f-3cae7781303a",
        "colab": {
          "base_uri": "https://localhost:8080/",
          "height": 545
        }
      },
      "source": [
        "import matplotlib.pyplot as plt\n",
        "\n",
        "acc = history.history['acc']\n",
        "val_acc = history.history['val_acc']\n",
        "loss = history.history['loss']\n",
        "val_loss = history.history['val_loss']\n",
        "\n",
        "epochs = range(1, len(acc) + 1)\n",
        "\n",
        "plt.plot(epochs, acc, 'bo', label='Training acc')\n",
        "plt.plot(epochs, val_acc, 'b', label='Validation acc')\n",
        "plt.title('Training and Validation Accuracy')\n",
        "plt.legend()\n",
        "plt.show()\n",
        "\n",
        "plt.figure()\n",
        "\n",
        "plt.plot(epochs, loss, 'bo', label='Training loss')\n",
        "plt.plot(epochs, val_loss, 'b', label='Validation loss')\n",
        "plt.title('Training and Validation Loss')\n",
        "plt.legend()\n",
        "plt.show()"
      ],
      "execution_count": 0,
      "outputs": [
        {
          "output_type": "display_data",
          "data": {
            "image/png": "[encoded data removed]",
            "text/plain": [
              "<Figure size 432x288 with 1 Axes>"
            ]
          },
          "metadata": {
            "tags": []
          }
        },
        {
          "output_type": "display_data",
          "data": {
            "image/png": "[encoded data removed]",
            "text/plain": [
              "<Figure size 432x288 with 1 Axes>"
            ]
          },
          "metadata": {
            "tags": []
          }
        }
      ]
    },
    {
      "cell_type": "code",
      "metadata": {
        "id": "Yb3UZXXqsRxn",
        "colab_type": "code",
        "colab": {}
      },
      "source": [
        ""
      ],
      "execution_count": 0,
      "outputs": []
    }
  ]
}