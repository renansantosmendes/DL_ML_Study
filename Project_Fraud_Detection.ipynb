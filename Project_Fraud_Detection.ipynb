{
  "nbformat": 4,
  "nbformat_minor": 0,
  "metadata": {
    "colab": {
      "name": "Project_Fraud_Detection.ipynb",
      "provenance": [],
      "collapsed_sections": []
    },
    "kernelspec": {
      "name": "python3",
      "display_name": "Python 3"
    }
  },
  "cells": [
    {
      "cell_type": "code",
      "metadata": {
        "id": "tmZuWGc0FVNS",
        "colab_type": "code",
        "outputId": "54f13469-4e8e-414f-a714-94ecf41d8f33",
        "colab": {
          "base_uri": "https://localhost:8080/",
          "height": 124
        }
      },
      "source": [
        "from google.colab import drive\n",
        "\n",
        "drive.mount('/content/drive/')"
      ],
      "execution_count": 0,
      "outputs": [
        {
          "output_type": "stream",
          "text": [
            "Go to this URL in a browser: https://accounts.google.com/o/oauth2/auth?client_id=947318989803-6bn6qk8qdgf4n4g3pfee6491hc0brc4i.apps.googleusercontent.com&redirect_uri=urn%3Aietf%3Awg%3Aoauth%3A2.0%3Aoob&scope=email%20https%3A%2F%2Fwww.googleapis.com%2Fauth%2Fdocs.test%20https%3A%2F%2Fwww.googleapis.com%2Fauth%2Fdrive%20https%3A%2F%2Fwww.googleapis.com%2Fauth%2Fdrive.photos.readonly%20https%3A%2F%2Fwww.googleapis.com%2Fauth%2Fpeopleapi.readonly&response_type=code\n",
            "\n",
            "Enter your authorization code:\n",
            "··········\n",
            "Mounted at /content/drive/\n"
          ],
          "name": "stdout"
        }
      ]
    },
    {
      "cell_type": "code",
      "metadata": {
        "id": "Iut3eTUMUV45",
        "colab_type": "code",
        "outputId": "a095e008-0526-46f4-f3a0-e979cb626ad8",
        "colab": {
          "base_uri": "https://localhost:8080/",
          "height": 334
        }
      },
      "source": [
        "!pip install pandas_ml"
      ],
      "execution_count": 0,
      "outputs": [
        {
          "output_type": "stream",
          "text": [
            "Collecting pandas_ml\n",
            "\u001b[?25l  Downloading https://files.pythonhosted.org/packages/ae/72/6d90debfcb9ea74ec00927fa7ed0204dcc560b1f9ffcd8b239daa7fd106d/pandas_ml-0.6.1-py3-none-any.whl (100kB)\n",
            "\u001b[K     |████████████████████████████████| 102kB 2.7MB/s \n",
            "\u001b[?25hCollecting enum34 (from pandas_ml)\n",
            "  Downloading https://files.pythonhosted.org/packages/af/42/cb9355df32c69b553e72a2e28daee25d1611d2c0d9c272aa1d34204205b2/enum34-1.1.6-py3-none-any.whl\n",
            "Requirement already satisfied: pandas>=0.19.0 in /usr/local/lib/python3.6/dist-packages (from pandas_ml) (0.24.2)\n",
            "Requirement already satisfied: python-dateutil>=2.5.0 in /usr/local/lib/python3.6/dist-packages (from pandas>=0.19.0->pandas_ml) (2.5.3)\n",
            "Requirement already satisfied: pytz>=2011k in /usr/local/lib/python3.6/dist-packages (from pandas>=0.19.0->pandas_ml) (2018.9)\n",
            "Requirement already satisfied: numpy>=1.12.0 in /usr/local/lib/python3.6/dist-packages (from pandas>=0.19.0->pandas_ml) (1.16.5)\n",
            "Requirement already satisfied: six>=1.5 in /usr/local/lib/python3.6/dist-packages (from python-dateutil>=2.5.0->pandas>=0.19.0->pandas_ml) (1.12.0)\n",
            "Installing collected packages: enum34, pandas-ml\n",
            "Successfully installed enum34-1.1.6 pandas-ml-0.6.1\n"
          ],
          "name": "stdout"
        },
        {
          "output_type": "display_data",
          "data": {
            "application/vnd.colab-display-data+json": {
              "pip_warning": {
                "packages": [
                  "enum"
                ]
              }
            }
          },
          "metadata": {
            "tags": []
          }
        }
      ]
    },
    {
      "cell_type": "code",
      "metadata": {
        "id": "fzFeCCzWUHYH",
        "colab_type": "code",
        "outputId": "10477eef-de06-4d97-cafc-02e1ff90cbf4",
        "colab": {
          "base_uri": "https://localhost:8080/",
          "height": 72
        }
      },
      "source": [
        "# Pacotes de Manipulação de Dados\n",
        "import numpy as np\n",
        "import matplotlib.pyplot as plt\n",
        "import sklearn\n",
        "from sklearn.model_selection import train_test_split\n",
        "from sklearn.datasets import make_blobs\n",
        "from sklearn.linear_model import LogisticRegression\n",
        "import pandas as pd\n",
        "\n",
        "# Keras e TensorFlow\n",
        "from keras.models import Sequential\n",
        "from keras.layers import Dense, Activation, Convolution2D, Flatten, Dropout, MaxPooling2D\n",
        "from keras.optimizers import SGD\n",
        "import tensorflow as tf\n",
        "\n",
        "# Pacotes para Confusion Matrix e Balanceamento de Classes\n",
        "import pandas_ml as pdml\n",
        "import imblearn"
      ],
      "execution_count": 0,
      "outputs": [
        {
          "output_type": "stream",
          "text": [
            "/usr/local/lib/python3.6/dist-packages/sklearn/externals/six.py:31: DeprecationWarning: The module is deprecated in version 0.21 and will be removed in version 0.23 since we've dropped support for Python 2.7. Please rely on the official version of six (https://pypi.org/project/six/).\n",
            "  \"(https://pypi.org/project/six/).\", DeprecationWarning)\n"
          ],
          "name": "stderr"
        }
      ]
    },
    {
      "cell_type": "code",
      "metadata": {
        "id": "L62BuwHpUTRu",
        "colab_type": "code",
        "colab": {}
      },
      "source": [
        "df = pd.read_csv('drive/My Drive/datasets/creditcard.csv', low_memory = False)\n",
        "df['Class'] = df['Class'].apply(lambda s: int(s.replace(\"'\",\"\")))\n",
        "X = df.iloc[:,:-1]\n",
        "y = df['Class']"
      ],
      "execution_count": 0,
      "outputs": []
    },
    {
      "cell_type": "code",
      "metadata": {
        "id": "qAMEXrjOUgfQ",
        "colab_type": "code",
        "outputId": "84e66d48-6464-4f0b-f852-55cbc52efc1b",
        "colab": {
          "base_uri": "https://localhost:8080/",
          "height": 226
        }
      },
      "source": [
        "df.head()"
      ],
      "execution_count": 0,
      "outputs": [
        {
          "output_type": "execute_result",
          "data": {
            "text/html": [
              "<div>\n",
              "<style scoped>\n",
              "    .dataframe tbody tr th:only-of-type {\n",
              "        vertical-align: middle;\n",
              "    }\n",
              "\n",
              "    .dataframe tbody tr th {\n",
              "        vertical-align: top;\n",
              "    }\n",
              "\n",
              "    .dataframe thead th {\n",
              "        text-align: right;\n",
              "    }\n",
              "</style>\n",
              "<table border=\"1\" class=\"dataframe\">\n",
              "  <thead>\n",
              "    <tr style=\"text-align: right;\">\n",
              "      <th></th>\n",
              "      <th>Time</th>\n",
              "      <th>V1</th>\n",
              "      <th>V2</th>\n",
              "      <th>V3</th>\n",
              "      <th>V4</th>\n",
              "      <th>V5</th>\n",
              "      <th>V6</th>\n",
              "      <th>V7</th>\n",
              "      <th>V8</th>\n",
              "      <th>V9</th>\n",
              "      <th>V10</th>\n",
              "      <th>V11</th>\n",
              "      <th>V12</th>\n",
              "      <th>V13</th>\n",
              "      <th>V14</th>\n",
              "      <th>V15</th>\n",
              "      <th>V16</th>\n",
              "      <th>V17</th>\n",
              "      <th>V18</th>\n",
              "      <th>V19</th>\n",
              "      <th>V20</th>\n",
              "      <th>V21</th>\n",
              "      <th>V22</th>\n",
              "      <th>V23</th>\n",
              "      <th>V24</th>\n",
              "      <th>V25</th>\n",
              "      <th>V26</th>\n",
              "      <th>V27</th>\n",
              "      <th>V28</th>\n",
              "      <th>Amount</th>\n",
              "      <th>Class</th>\n",
              "    </tr>\n",
              "  </thead>\n",
              "  <tbody>\n",
              "    <tr>\n",
              "      <th>0</th>\n",
              "      <td>0.0</td>\n",
              "      <td>-1.359807</td>\n",
              "      <td>-0.072781</td>\n",
              "      <td>2.536347</td>\n",
              "      <td>1.378155</td>\n",
              "      <td>-0.338321</td>\n",
              "      <td>0.462388</td>\n",
              "      <td>0.239599</td>\n",
              "      <td>0.098698</td>\n",
              "      <td>0.363787</td>\n",
              "      <td>0.090794</td>\n",
              "      <td>-0.551600</td>\n",
              "      <td>-0.617801</td>\n",
              "      <td>-0.991390</td>\n",
              "      <td>-0.311169</td>\n",
              "      <td>1.468177</td>\n",
              "      <td>-0.470401</td>\n",
              "      <td>0.207971</td>\n",
              "      <td>0.025791</td>\n",
              "      <td>0.403993</td>\n",
              "      <td>0.251412</td>\n",
              "      <td>-0.018307</td>\n",
              "      <td>0.277838</td>\n",
              "      <td>-0.110474</td>\n",
              "      <td>0.066928</td>\n",
              "      <td>0.128539</td>\n",
              "      <td>-0.189115</td>\n",
              "      <td>0.133558</td>\n",
              "      <td>-0.021053</td>\n",
              "      <td>149.62</td>\n",
              "      <td>0</td>\n",
              "    </tr>\n",
              "    <tr>\n",
              "      <th>1</th>\n",
              "      <td>0.0</td>\n",
              "      <td>1.191857</td>\n",
              "      <td>0.266151</td>\n",
              "      <td>0.166480</td>\n",
              "      <td>0.448154</td>\n",
              "      <td>0.060018</td>\n",
              "      <td>-0.082361</td>\n",
              "      <td>-0.078803</td>\n",
              "      <td>0.085102</td>\n",
              "      <td>-0.255425</td>\n",
              "      <td>-0.166974</td>\n",
              "      <td>1.612727</td>\n",
              "      <td>1.065235</td>\n",
              "      <td>0.489095</td>\n",
              "      <td>-0.143772</td>\n",
              "      <td>0.635558</td>\n",
              "      <td>0.463917</td>\n",
              "      <td>-0.114805</td>\n",
              "      <td>-0.183361</td>\n",
              "      <td>-0.145783</td>\n",
              "      <td>-0.069083</td>\n",
              "      <td>-0.225775</td>\n",
              "      <td>-0.638672</td>\n",
              "      <td>0.101288</td>\n",
              "      <td>-0.339846</td>\n",
              "      <td>0.167170</td>\n",
              "      <td>0.125895</td>\n",
              "      <td>-0.008983</td>\n",
              "      <td>0.014724</td>\n",
              "      <td>2.69</td>\n",
              "      <td>0</td>\n",
              "    </tr>\n",
              "    <tr>\n",
              "      <th>2</th>\n",
              "      <td>1.0</td>\n",
              "      <td>-1.358354</td>\n",
              "      <td>-1.340163</td>\n",
              "      <td>1.773209</td>\n",
              "      <td>0.379780</td>\n",
              "      <td>-0.503198</td>\n",
              "      <td>1.800499</td>\n",
              "      <td>0.791461</td>\n",
              "      <td>0.247676</td>\n",
              "      <td>-1.514654</td>\n",
              "      <td>0.207643</td>\n",
              "      <td>0.624501</td>\n",
              "      <td>0.066084</td>\n",
              "      <td>0.717293</td>\n",
              "      <td>-0.165946</td>\n",
              "      <td>2.345865</td>\n",
              "      <td>-2.890083</td>\n",
              "      <td>1.109969</td>\n",
              "      <td>-0.121359</td>\n",
              "      <td>-2.261857</td>\n",
              "      <td>0.524980</td>\n",
              "      <td>0.247998</td>\n",
              "      <td>0.771679</td>\n",
              "      <td>0.909412</td>\n",
              "      <td>-0.689281</td>\n",
              "      <td>-0.327642</td>\n",
              "      <td>-0.139097</td>\n",
              "      <td>-0.055353</td>\n",
              "      <td>-0.059752</td>\n",
              "      <td>378.66</td>\n",
              "      <td>0</td>\n",
              "    </tr>\n",
              "    <tr>\n",
              "      <th>3</th>\n",
              "      <td>1.0</td>\n",
              "      <td>-0.966272</td>\n",
              "      <td>-0.185226</td>\n",
              "      <td>1.792993</td>\n",
              "      <td>-0.863291</td>\n",
              "      <td>-0.010309</td>\n",
              "      <td>1.247203</td>\n",
              "      <td>0.237609</td>\n",
              "      <td>0.377436</td>\n",
              "      <td>-1.387024</td>\n",
              "      <td>-0.054952</td>\n",
              "      <td>-0.226487</td>\n",
              "      <td>0.178228</td>\n",
              "      <td>0.507757</td>\n",
              "      <td>-0.287924</td>\n",
              "      <td>-0.631418</td>\n",
              "      <td>-1.059647</td>\n",
              "      <td>-0.684093</td>\n",
              "      <td>1.965775</td>\n",
              "      <td>-1.232622</td>\n",
              "      <td>-0.208038</td>\n",
              "      <td>-0.108300</td>\n",
              "      <td>0.005274</td>\n",
              "      <td>-0.190321</td>\n",
              "      <td>-1.175575</td>\n",
              "      <td>0.647376</td>\n",
              "      <td>-0.221929</td>\n",
              "      <td>0.062723</td>\n",
              "      <td>0.061458</td>\n",
              "      <td>123.50</td>\n",
              "      <td>0</td>\n",
              "    </tr>\n",
              "    <tr>\n",
              "      <th>4</th>\n",
              "      <td>2.0</td>\n",
              "      <td>-1.158233</td>\n",
              "      <td>0.877737</td>\n",
              "      <td>1.548718</td>\n",
              "      <td>0.403034</td>\n",
              "      <td>-0.407193</td>\n",
              "      <td>0.095921</td>\n",
              "      <td>0.592941</td>\n",
              "      <td>-0.270533</td>\n",
              "      <td>0.817739</td>\n",
              "      <td>0.753074</td>\n",
              "      <td>-0.822843</td>\n",
              "      <td>0.538196</td>\n",
              "      <td>1.345852</td>\n",
              "      <td>-1.119670</td>\n",
              "      <td>0.175121</td>\n",
              "      <td>-0.451449</td>\n",
              "      <td>-0.237033</td>\n",
              "      <td>-0.038195</td>\n",
              "      <td>0.803487</td>\n",
              "      <td>0.408542</td>\n",
              "      <td>-0.009431</td>\n",
              "      <td>0.798278</td>\n",
              "      <td>-0.137458</td>\n",
              "      <td>0.141267</td>\n",
              "      <td>-0.206010</td>\n",
              "      <td>0.502292</td>\n",
              "      <td>0.219422</td>\n",
              "      <td>0.215153</td>\n",
              "      <td>69.99</td>\n",
              "      <td>0</td>\n",
              "    </tr>\n",
              "  </tbody>\n",
              "</table>\n",
              "</div>"
            ],
            "text/plain": [
              "   Time        V1        V2        V3  ...       V27       V28  Amount  Class\n",
              "0   0.0 -1.359807 -0.072781  2.536347  ...  0.133558 -0.021053  149.62      0\n",
              "1   0.0  1.191857  0.266151  0.166480  ... -0.008983  0.014724    2.69      0\n",
              "2   1.0 -1.358354 -1.340163  1.773209  ... -0.055353 -0.059752  378.66      0\n",
              "3   1.0 -0.966272 -0.185226  1.792993  ...  0.062723  0.061458  123.50      0\n",
              "4   2.0 -1.158233  0.877737  1.548718  ...  0.219422  0.215153   69.99      0\n",
              "\n",
              "[5 rows x 31 columns]"
            ]
          },
          "metadata": {
            "tags": []
          },
          "execution_count": 32
        }
      ]
    },
    {
      "cell_type": "code",
      "metadata": {
        "id": "4GQr7ldyUzqO",
        "colab_type": "code",
        "outputId": "dd3fce30-2552-4295-c8f3-923e7309e8a6",
        "colab": {
          "base_uri": "https://localhost:8080/",
          "height": 34
        }
      },
      "source": [
        "frauds = df.loc[df['Class'] == 1]\n",
        "non_frauds = df.loc[df['Class'] == 0]\n",
        "print(\"Temos\", len(frauds), \"pontos de dados como fraude e\", len(non_frauds), \"pontos de dados considerados normais.\")"
      ],
      "execution_count": 0,
      "outputs": [
        {
          "output_type": "stream",
          "text": [
            "Temos 492 pontos de dados como fraude e 284315 pontos de dados considerados normais.\n"
          ],
          "name": "stdout"
        }
      ]
    },
    {
      "cell_type": "code",
      "metadata": {
        "id": "DWaQMHaRVctG",
        "colab_type": "code",
        "outputId": "1fafd679-6728-4a93-d6c2-7b4aca8f4687",
        "colab": {
          "base_uri": "https://localhost:8080/",
          "height": 34
        }
      },
      "source": [
        "X_train, X_test, y_train, y_test = train_test_split(X, y, test_size = 0.33, random_state = 42)\n",
        "print(\"Tamanho do Dataset de Treino: \", X_train.shape)"
      ],
      "execution_count": 0,
      "outputs": [
        {
          "output_type": "stream",
          "text": [
            "Tamanho do Dataset de Treino:  (190820, 30)\n"
          ],
          "name": "stdout"
        }
      ]
    },
    {
      "cell_type": "code",
      "metadata": {
        "id": "wB62nW_0Xev5",
        "colab_type": "code",
        "outputId": "0be33a62-c3a3-4b6e-e0ac-336bd9773aa4",
        "colab": {
          "base_uri": "https://localhost:8080/",
          "height": 225
        }
      },
      "source": [
        "model = Sequential()\n",
        "model.add(Dense(30, input_dim = 30, activation = 'relu'))     \n",
        "model.add(Dense(1, activation = 'sigmoid'))                \n",
        "model.compile(loss = 'binary_crossentropy', optimizer = 'adam', metrics = ['accuracy'])\n",
        "model.summary()"
      ],
      "execution_count": 0,
      "outputs": [
        {
          "output_type": "stream",
          "text": [
            "Model: \"sequential_2\"\n",
            "_________________________________________________________________\n",
            "Layer (type)                 Output Shape              Param #   \n",
            "=================================================================\n",
            "dense_3 (Dense)              (None, 30)                930       \n",
            "_________________________________________________________________\n",
            "dense_4 (Dense)              (None, 1)                 31        \n",
            "=================================================================\n",
            "Total params: 961\n",
            "Trainable params: 961\n",
            "Non-trainable params: 0\n",
            "_________________________________________________________________\n"
          ],
          "name": "stdout"
        }
      ]
    },
    {
      "cell_type": "code",
      "metadata": {
        "id": "D5cFWOXRXh1k",
        "colab_type": "code",
        "outputId": "f938b4fd-41c6-48c7-a35f-74ab29e6c345",
        "colab": {
          "base_uri": "https://localhost:8080/",
          "height": 124
        }
      },
      "source": [
        "model.fit(X_train.as_matrix(), y_train, epochs = 1)"
      ],
      "execution_count": 0,
      "outputs": [
        {
          "output_type": "stream",
          "text": [
            "/usr/local/lib/python3.6/dist-packages/ipykernel_launcher.py:1: FutureWarning: Method .as_matrix will be removed in a future version. Use .values instead.\n",
            "  \"\"\"Entry point for launching an IPython kernel.\n"
          ],
          "name": "stderr"
        },
        {
          "output_type": "stream",
          "text": [
            "Epoch 1/1\n",
            "190820/190820 [==============================] - 7s 39us/step - loss: 1.1919 - acc: 0.9252\n"
          ],
          "name": "stdout"
        },
        {
          "output_type": "execute_result",
          "data": {
            "text/plain": [
              "<keras.callbacks.History at 0x7ff5deb96cf8>"
            ]
          },
          "metadata": {
            "tags": []
          },
          "execution_count": 36
        }
      ]
    },
    {
      "cell_type": "code",
      "metadata": {
        "id": "y68UW55_XkeM",
        "colab_type": "code",
        "outputId": "176f9fe7-748e-4c18-fe99-26ab23485888",
        "colab": {
          "base_uri": "https://localhost:8080/",
          "height": 89
        }
      },
      "source": [
        "print(\"Erro/Acurácia: \", model.evaluate(X_test.as_matrix(), y_test, verbose = 0))"
      ],
      "execution_count": 0,
      "outputs": [
        {
          "output_type": "stream",
          "text": [
            "/usr/local/lib/python3.6/dist-packages/ipykernel_launcher.py:1: FutureWarning: Method .as_matrix will be removed in a future version. Use .values instead.\n",
            "  \"\"\"Entry point for launching an IPython kernel.\n"
          ],
          "name": "stderr"
        },
        {
          "output_type": "stream",
          "text": [
            "Erro/Acurácia:  [0.025556842991526142, 0.9984146743698596]\n"
          ],
          "name": "stdout"
        }
      ]
    },
    {
      "cell_type": "code",
      "metadata": {
        "id": "5nCz8b8cXzhZ",
        "colab_type": "code",
        "outputId": "e8eb049e-74ba-46e4-a737-ecab0a9782c0",
        "colab": {
          "base_uri": "https://localhost:8080/",
          "height": 72
        }
      },
      "source": [
        "y_predicted = model.predict(X_test.as_matrix()).T[0].astype(int)"
      ],
      "execution_count": 0,
      "outputs": [
        {
          "output_type": "stream",
          "text": [
            "/usr/local/lib/python3.6/dist-packages/ipykernel_launcher.py:1: FutureWarning: Method .as_matrix will be removed in a future version. Use .values instead.\n",
            "  \"\"\"Entry point for launching an IPython kernel.\n"
          ],
          "name": "stderr"
        }
      ]
    },
    {
      "cell_type": "code",
      "metadata": {
        "id": "lQ_inyIPX3L2",
        "colab_type": "code",
        "outputId": "b45dfb1b-57bb-486c-cd57-394ab9abc68e",
        "colab": {
          "base_uri": "https://localhost:8080/",
          "height": 1000
        }
      },
      "source": [
        "from pandas_ml import ConfusionMatrix\n",
        "import warnings\n",
        "warnings.filterwarnings('ignore')\n",
        "y_right = np.array(y_test)\n",
        "confusion_matrix = ConfusionMatrix(y_right, y_predicted)\n",
        "print(\"Confusion matrix:\\n%s\" % confusion_matrix)\n",
        "confusion_matrix.plot(normalized=True)\n",
        "plt.show()\n",
        "confusion_matrix.print_stats()"
      ],
      "execution_count": 0,
      "outputs": [
        {
          "output_type": "stream",
          "text": [
            "Confusion matrix:\n",
            "Predicted      0  1  __all__\n",
            "Actual                      \n",
            "0          93838  0    93838\n",
            "1            149  0      149\n",
            "__all__    93987  0    93987\n"
          ],
          "name": "stdout"
        },
        {
          "output_type": "display_data",
          "data": {
            "image/png": "[encoded data removed]",
            "text/plain": [
              "<Figure size 648x576 with 2 Axes>"
            ]
          },
          "metadata": {
            "tags": []
          }
        },
        {
          "output_type": "stream",
          "text": [
            "Confusion Matrix:\n",
            "\n",
            "Predicted      0  1  __all__\n",
            "Actual                      \n",
            "0          93838  0    93838\n",
            "1            149  0      149\n",
            "__all__    93987  0    93987\n",
            "\n",
            "\n",
            "Overall Statistics:\n",
            "\n",
            "Accuracy: 0.9984146743698596\n",
            "95% CI: (0.9981389650810484, 0.9986588455019066)\n",
            "No Information Rate: ToDo\n",
            "P-Value [Acc > NIR]: 1.0\n",
            "Kappa: 0.0\n",
            "Mcnemar's Test P-Value: ToDo\n",
            "\n",
            "\n",
            "Class Statistics:\n",
            "\n",
            "Classes                                         0           1\n",
            "Population                                  93987       93987\n",
            "P: Condition positive                       93838         149\n",
            "N: Condition negative                         149       93838\n",
            "Test outcome positive                       93987           0\n",
            "Test outcome negative                           0       93987\n",
            "TP: True Positive                           93838           0\n",
            "TN: True Negative                               0       93838\n",
            "FP: False Positive                            149           0\n",
            "FN: False Negative                              0         149\n",
            "TPR: (Sensitivity, hit rate, recall)            1           0\n",
            "TNR=SPC: (Specificity)                          0           1\n",
            "PPV: Pos Pred Value (Precision)          0.998415         NaN\n",
            "NPV: Neg Pred Value                           NaN    0.998415\n",
            "FPR: False-out                                  1           0\n",
            "FDR: False Discovery Rate              0.00158533         NaN\n",
            "FNR: Miss Rate                                  0           1\n",
            "ACC: Accuracy                            0.998415    0.998415\n",
            "F1 score                                 0.999207           0\n",
            "MCC: Matthews correlation coefficient         NaN         NaN\n",
            "Informedness                                    0           0\n",
            "Markedness                                    NaN         NaN\n",
            "Prevalence                               0.998415  0.00158533\n",
            "LR+: Positive likelihood ratio                  1         NaN\n",
            "LR-: Negative likelihood ratio                NaN           1\n",
            "DOR: Diagnostic odds ratio                    NaN         NaN\n",
            "FOR: False omission rate                      NaN  0.00158533\n"
          ],
          "name": "stdout"
        }
      ]
    },
    {
      "cell_type": "code",
      "metadata": {
        "id": "JT4PHRvaX6tL",
        "colab_type": "code",
        "outputId": "ff2716c4-0763-4bc4-9baf-c2e477547815",
        "colab": {
          "base_uri": "https://localhost:8080/",
          "height": 243
        }
      },
      "source": [
        "from sklearn.decomposition import PCA\n",
        "from sklearn.preprocessing import scale\n",
        "\n",
        "df2 = pdml.ModelFrame(X, target=y)\n",
        "sampler = df2.imbalance.over_sampling.SMOTE()\n",
        "oversampled = df2.fit_sample(sampler)\n",
        "X2, y2 = oversampled.iloc[:,:-1], oversampled['Class']\n",
        "\n",
        "data = scale(X2)\n",
        "pca = PCA(n_components = 10)\n",
        "X2 = pca.fit_transform(data)\n",
        "X2"
      ],
      "execution_count": 0,
      "outputs": [
        {
          "output_type": "execute_result",
          "data": {
            "text/plain": [
              "array([[ -2.30757419,   0.09741477,   0.33934667, ...,  -1.56934936,\n",
              "         -0.01691196,   0.62002261],\n",
              "       [ -2.20936842,   0.48816764,   0.31401344, ...,  -0.81936449,\n",
              "         -0.41829069,   0.74466229],\n",
              "       [ -2.41119784,  -0.24634807,  -0.12466763, ...,  -1.90734566,\n",
              "         -1.21990004,   0.39674834],\n",
              "       ...,\n",
              "       [ 10.25914641, -10.63222632,  -4.70722361, ...,  -1.75418887,\n",
              "          0.88870289,   0.33736889],\n",
              "       [  4.01379321,  -0.49987762,  -0.66368379, ...,  -1.14278594,\n",
              "         -0.22127493,  -0.65621395],\n",
              "       [  1.32089458,   0.54864195,   0.1702663 , ...,  -0.1367015 ,\n",
              "          0.26897373,   0.34000351]])"
            ]
          },
          "metadata": {
            "tags": []
          },
          "execution_count": 40
        }
      ]
    },
    {
      "cell_type": "code",
      "metadata": {
        "id": "kONxL7gTYAQd",
        "colab_type": "code",
        "colab": {}
      },
      "source": [
        "X2_train, X2_test, y2_train, y2_test = train_test_split(X2, y2.as_matrix(), test_size = 0.33, random_state = 42)"
      ],
      "execution_count": 0,
      "outputs": []
    },
    {
      "cell_type": "code",
      "metadata": {
        "id": "ibNWGuc4YDbc",
        "colab_type": "code",
        "outputId": "9857baa0-6d51-48fe-c101-4bd8b376e44b",
        "colab": {
          "base_uri": "https://localhost:8080/",
          "height": 330
        }
      },
      "source": [
        "model2 = Sequential()\n",
        "model2.add(Dense(10, input_dim = 10, activation = 'tanh')) \n",
        "model2.add(Dense(27, activation = 'tanh'))\n",
        "model2.add(Dense(16, activation = 'tanh'))\n",
        "model2.add(Dense(2, activation = 'tanh'))\n",
        "model2.add(Dense(1, activation = 'sigmoid'))\n",
        "model2.compile(loss = 'binary_crossentropy', optimizer = 'adam', metrics = ['accuracy'])\n",
        "model2.summary()"
      ],
      "execution_count": 0,
      "outputs": [
        {
          "output_type": "stream",
          "text": [
            "Model: \"sequential_3\"\n",
            "_________________________________________________________________\n",
            "Layer (type)                 Output Shape              Param #   \n",
            "=================================================================\n",
            "dense_5 (Dense)              (None, 10)                110       \n",
            "_________________________________________________________________\n",
            "dense_6 (Dense)              (None, 27)                297       \n",
            "_________________________________________________________________\n",
            "dense_7 (Dense)              (None, 16)                448       \n",
            "_________________________________________________________________\n",
            "dense_8 (Dense)              (None, 2)                 34        \n",
            "_________________________________________________________________\n",
            "dense_9 (Dense)              (None, 1)                 3         \n",
            "=================================================================\n",
            "Total params: 892\n",
            "Trainable params: 892\n",
            "Non-trainable params: 0\n",
            "_________________________________________________________________\n"
          ],
          "name": "stdout"
        }
      ]
    },
    {
      "cell_type": "code",
      "metadata": {
        "id": "Vt-SdQLNYGaw",
        "colab_type": "code",
        "outputId": "f44994bc-f3df-43d9-b446-983a54bf8acf",
        "colab": {
          "base_uri": "https://localhost:8080/",
          "height": 104
        }
      },
      "source": [
        "model2.fit(X2_train, y2_train, epochs = 2)"
      ],
      "execution_count": 0,
      "outputs": [
        {
          "output_type": "stream",
          "text": [
            "Epoch 1/2\n",
            "380982/380982 [==============================] - 16s 42us/step - loss: 0.0229 - acc: 0.9942\n",
            "Epoch 2/2\n",
            "380982/380982 [==============================] - 15s 41us/step - loss: 0.0089 - acc: 0.9969\n"
          ],
          "name": "stdout"
        },
        {
          "output_type": "execute_result",
          "data": {
            "text/plain": [
              "<keras.callbacks.History at 0x7ff5d516eb70>"
            ]
          },
          "metadata": {
            "tags": []
          },
          "execution_count": 43
        }
      ]
    },
    {
      "cell_type": "code",
      "metadata": {
        "id": "ecfJ31jlYJVp",
        "colab_type": "code",
        "outputId": "fd49a5b4-ebc2-4c2a-d73a-9604deea596d",
        "colab": {
          "base_uri": "https://localhost:8080/",
          "height": 34
        }
      },
      "source": [
        "print(\"Loss: \", model2.evaluate(X2_test, y2_test, verbose=0))"
      ],
      "execution_count": 0,
      "outputs": [
        {
          "output_type": "stream",
          "text": [
            "Loss:  [0.007472291928078142, 0.9974580064802183]\n"
          ],
          "name": "stdout"
        }
      ]
    },
    {
      "cell_type": "code",
      "metadata": {
        "id": "x2Fnb3W5YMO_",
        "colab_type": "code",
        "colab": {}
      },
      "source": [
        "y2_predicted = np.round(model2.predict(X2_test)).T[0]\n",
        "y2_correct = np.array(y2_test)"
      ],
      "execution_count": 0,
      "outputs": []
    },
    {
      "cell_type": "code",
      "metadata": {
        "id": "eap8pgnoYQEZ",
        "colab_type": "code",
        "outputId": "4bc121aa-6404-4a17-f526-e0a42d872deb",
        "colab": {
          "base_uri": "https://localhost:8080/",
          "height": 34
        }
      },
      "source": [
        "np.setdiff1d(y2_predicted, y2_correct)"
      ],
      "execution_count": 0,
      "outputs": [
        {
          "output_type": "execute_result",
          "data": {
            "text/plain": [
              "array([], dtype=float32)"
            ]
          },
          "metadata": {
            "tags": []
          },
          "execution_count": 46
        }
      ]
    },
    {
      "cell_type": "code",
      "metadata": {
        "id": "ht7-0C21YQ-n",
        "colab_type": "code",
        "outputId": "19a96948-3485-494b-a0d5-4a84bc2ab0c9",
        "colab": {
          "base_uri": "https://localhost:8080/",
          "height": 104
        }
      },
      "source": [
        "false_neg = 0\n",
        "false_pos = 0\n",
        "incorrect = 0\n",
        "total = len(y2_test)\n",
        "for i in range(len(y2_test)):\n",
        "    if y2_predicted[i] != y2_correct[i]:\n",
        "        incorrect += 1\n",
        "        if y2_correct[i] == 1 and y2_predicted[i] == 0:\n",
        "            false_neg += 1\n",
        "        else:\n",
        "            false_pos += 1\n",
        "\n",
        "inaccuracy = incorrect / total\n",
        "\n",
        "print('Inacurácia:', inaccuracy)\n",
        "print('Acurácia:', 1 - inaccuracy)\n",
        "print('Taxa de Falsos Negativos:', false_neg/incorrect)\n",
        "print('Taxa de Falsos Positivos:', false_pos / incorrect )\n",
        "print('Falsos Negativos/total:', false_neg/total)"
      ],
      "execution_count": 0,
      "outputs": [
        {
          "output_type": "stream",
          "text": [
            "Inacurácia: 0.002541993519781719\n",
            "Acurácia: 0.9974580064802183\n",
            "Taxa de Falsos Negativos: 0.44025157232704404\n",
            "Taxa de Falsos Positivos: 0.559748427672956\n",
            "Falsos Negativos/total: 0.0011191166439290586\n"
          ],
          "name": "stdout"
        }
      ]
    },
    {
      "cell_type": "code",
      "metadata": {
        "id": "8Zir2Ub4YUVP",
        "colab_type": "code",
        "outputId": "78e2f8fc-7235-44c7-b455-12fe0945848d",
        "colab": {
          "base_uri": "https://localhost:8080/",
          "height": 1000
        }
      },
      "source": [
        "confusion_matrix2 = ConfusionMatrix(y2_correct, y2_predicted)\n",
        "print(\"Confusion matrix:\\n%s\" % confusion_matrix2)\n",
        "confusion_matrix2.plot(normalized=True)\n",
        "plt.show()\n",
        "confusion_matrix2.print_stats()"
      ],
      "execution_count": 0,
      "outputs": [
        {
          "output_type": "stream",
          "text": [
            "Confusion matrix:\n",
            "Predicted  False   True  __all__\n",
            "Actual                          \n",
            "False      93508    267    93775\n",
            "True         210  93663    93873\n",
            "__all__    93718  93930   187648\n"
          ],
          "name": "stdout"
        },
        {
          "output_type": "display_data",
          "data": {
            "image/png": "[encoded data removed]",
            "text/plain": [
              "<Figure size 648x576 with 2 Axes>"
            ]
          },
          "metadata": {
            "tags": []
          }
        },
        {
          "output_type": "stream",
          "text": [
            "population: 187648\n",
            "P: 93873\n",
            "N: 93775\n",
            "PositiveTest: 93930\n",
            "NegativeTest: 93718\n",
            "TP: 93663\n",
            "TN: 93508\n",
            "FP: 267\n",
            "FN: 210\n",
            "TPR: 0.9977629350292416\n",
            "TNR: 0.9971527592641962\n",
            "PPV: 0.997157457681252\n",
            "NPV: 0.9977592351522653\n",
            "FPR: 0.0028472407358037855\n",
            "FDR: 0.0028425423187480037\n",
            "FNR: 0.002237064970758365\n",
            "ACC: 0.9974580064802183\n",
            "F1_score: 0.9974601044711746\n",
            "MCC: 4.550268450398732\n",
            "informedness: 0.9949156942934378\n",
            "markedness: 0.9949166928335171\n",
            "prevalence: 0.5002611272169167\n",
            "LRP: 350.4315327054949\n",
            "LRN: 0.0022434526204481507\n",
            "DOR: 156201.88699839485\n",
            "FOR: 0.0022407648477346933\n"
          ],
          "name": "stdout"
        }
      ]
    },
    {
      "cell_type": "code",
      "metadata": {
        "id": "EBUXiReLYX-P",
        "colab_type": "code",
        "colab": {}
      },
      "source": [
        ""
      ],
      "execution_count": 0,
      "outputs": []
    }
  ]
}
